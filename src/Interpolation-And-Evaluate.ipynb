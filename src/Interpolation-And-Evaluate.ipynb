{
 "cells": [
  {
   "cell_type": "code",
   "execution_count": null,
   "id": "863b2195",
   "metadata": {},
   "outputs": [],
   "source": [
    "import arcpy\n",
    "import geopandas as gpd\n",
    "import rasterio\n",
    "import pandas as pd\n",
    "import numpy as np\n",
    "from permetrics.regression import RegressionMetric\n",
    "#اگر داده کیفی بود بجای خط بالا اینو ایمپورت کن !!\n",
    "#طبیعتا فرمول هاش تغیییر میکنه شاید بعذا اینو نوشتم\n",
    "#from permetrics.classification import ClassificationMetrica"
   ]
  },
  {
   "cell_type": "code",
   "execution_count": null,
   "id": "622edf97",
   "metadata": {},
   "outputs": [],
   "source": [
    "def interpolation(interpolation_type, df,field, method, zone, workspace , raster_address, x ,y ):\n",
    "    epsg=32600+int(zone)\n",
    "    shp_address=rf\"{workspace}\\temp.shp\"\n",
    " \n",
    "    for i, row in df.iterrows():\n",
    "        \n",
    "        # Drop the current row\n",
    "        df_subset = df.drop(i)\n",
    "        \n",
    "        gdf = gpd.GeoDataFrame(df_subset, geometry=gpd.points_from_xy(df_subset[x], df_subset[y]))\n",
    "        gdf.set_crs(epsg=epsg, inplace=True)\n",
    "\n",
    "        gdf.to_file(filename=shp_address, driver=\"ESRI Shapefile\", encoding=\"utf-8\")\n",
    "        \n",
    "        if interpolation_type == \"Idw\":\n",
    "            out_raster = arcpy.sa.Idw(shp_address, field,method)       \n",
    "        elif interpolation_type == \"Kriging\":\n",
    "            out_raster = arcpy.sa.Kriging(shp_address,method,field)\n",
    "        elif interpolation_type == \"Spline\":\n",
    "            out_raster = arcpy.sa.Spline(shp_address,field,spline_type=method,)\n",
    "        else :\n",
    "            return None                                 \n",
    "\n",
    "        out_raster.save(raster_address)  \n",
    "        \n",
    "        with rasterio.open(raster_address) as src:\n",
    "            lon, lan = src.index(row[x], row[y])\n",
    "            value = src.read(1)\n",
    "        \n",
    "        # Add the interpolated value to the DataFrame\n",
    "        col = f\"{interpolation_type}_{method}_{field}\"\n",
    "        df.at[i, col] = value[lon, lan]\n",
    "        \n",
    "    return df\n"
   ]
  },
  {
   "cell_type": "code",
   "execution_count": null,
   "id": "a8dbd2be",
   "metadata": {},
   "outputs": [],
   "source": [
    "def Evalute(method,df,field,interpolation_columns_name) :\n",
    "    observed_values=list(df[field])\n",
    "    res_dict={}\n",
    "    for i,col in enumerate(interpolation_columns_name):\n",
    "        interpolated_values = list(df[col])\n",
    "        evaluator = RegressionMetric(observed_values, interpolated_values)\n",
    "        if method==\"MBE\":\n",
    "            res=evaluator.mean_bias_error()\n",
    "            res_dict[i] =[col,res]  \n",
    "        elif method==\"RMSE\":\n",
    "            res=evaluator.root_mean_squared_error()\n",
    "            res_dict[i] = [col,res]\n",
    "        elif method==\"MAPE\":\n",
    "            res=evaluator.mean_percentage_error()\n",
    "            res_dict[i] =[col,res]\n",
    "        elif method==\"R\":\n",
    "            res=evaluator.pearson_correlation_coefficient()\n",
    "            res_dict[i] = [col,res]\n",
    "        else :\n",
    "            return None\n",
    "    df_out=pd.DataFrame(res_dict,index=['method',f'Evalute_{method}']).transpose()\n",
    "    return df_out\n",
    "    "
   ]
  },
  {
   "cell_type": "code",
   "execution_count": null,
   "id": "662ee2fe",
   "metadata": {},
   "outputs": [],
   "source": [
    "workspace= input(\"Insert your path: \")\n",
    "gdb_name= \"interpolation\"\n",
    "arcpy.env.overwriteOutput=True\n",
    "#arcpy.CreateFileGDB_management(workspace,gdb_name)\n",
    "workspace_gdb=rf\"{workspace}/{gdb_name}.gdb\"\n",
    "\n",
    "arcpy.env.workspace=workspace_gdb\n",
    "\n",
    "address_input=input('insert your excel file : ')\n",
    "df=pd.read_excel(address_input)\n",
    "zone=input(\"insert your UTM Zone ? \")\n",
    "raster_address=r\"C:\\temp.tif\"\n"
   ]
  },
  {
   "cell_type": "code",
   "execution_count": null,
   "id": "7f7c6c3d",
   "metadata": {},
   "outputs": [],
   "source": [
    "address_model=input('insert your model file : ')\n",
    "df_model=pd.read_excel(address_model)\n"
   ]
  },
  {
   "cell_type": "code",
   "execution_count": null,
   "id": "49f06d4e",
   "metadata": {},
   "outputs": [],
   "source": [
    "count=False\n",
    "for i, row in df_model.iterrows():\n",
    "    #Idw=[1,2,3,4,5]\n",
    "    #Kriging=[\"Spherical\",\"Circular\",\"Exponential\",\"Gaussian\",\"Linear\",\"LinearDrift\",\"QuadraticDrift\"]\n",
    "    #Spline=[\"REGULARIZED\",\"TENSION\"]\n",
    "    \n",
    "    program=input(\"y/n\")\n",
    "    if program==\"n\":\n",
    "        break\n",
    "    elif program==\"y\":\n",
    "        interpolation_type=row[\"model\"]\n",
    "        method=row[\"method\"]\n",
    "        field=row[\"field\"]\n",
    "\n",
    "    x=df.columns[1];y=df.columns[2]\n",
    "    \n",
    "    df_final = interpolation(interpolation_type, df, field, method,zone,workspace,raster_address,x,y)\n",
    "    count= True\n",
    "\n",
    "if count:\n",
    "    final_Excel=input(\"insert your df excel path\")    \n",
    "    df_final.to_excel(final_Excel,index=False)"
   ]
  },
  {
   "cell_type": "code",
   "execution_count": null,
   "id": "6719a5e8",
   "metadata": {},
   "outputs": [],
   "source": [
    "#Evalute \n",
    "start_column=4\n",
    "interpolation_columns = list(df_final.columns[start_column:])\n",
    "    \n",
    "MBE=Evalute(\"MBE\",df_final,field,interpolation_columns)\n",
    "RMSE=Evalute(\"RMSE\",df_final,field,interpolation_columns)\n",
    "R=Evalute(\"R\",df_final,field,interpolation_columns)\n",
    "MAPE=Evalute(\"MAPE\",df_final,field,interpolation_columns)\n",
    "\n",
    "df_eval=pd.DataFrame(interpolation_columns)\n",
    "df_eval=df_eval.rename(columns={0:\"method\"})\n",
    "\n",
    "dfs=[RMSE,MBE,R,MAPE]\n",
    "\n",
    "for df in dfs :\n",
    "    df_eval=df_eval.merge(df,on=\"method\",how=\"right\") \n",
    "\n",
    "evalute_Excel=input(\"insert your df ecxel path\") \n",
    "df_eval.to_excel(evalute_Excel,index=False)"
   ]
  }
 ],
 "metadata": {
  "kernelspec": {
   "display_name": "Python 3",
   "language": "python",
   "name": "python3"
  },
  "language_info": {
   "codemirror_mode": {
    "name": "ipython",
    "version": 3
   },
   "file_extension": ".py",
   "mimetype": "text/x-python",
   "name": "python",
   "nbconvert_exporter": "python",
   "pygments_lexer": "ipython3",
   "version": "3.9.11"
  }
 },
 "nbformat": 4,
 "nbformat_minor": 5
}
